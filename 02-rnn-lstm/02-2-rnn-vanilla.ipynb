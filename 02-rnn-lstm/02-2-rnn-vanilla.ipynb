{
 "cells": [
  {
   "cell_type": "markdown",
   "metadata": {},
   "source": [
    "# 02-2: RNN vanilla "
   ]
  },
  {
   "cell_type": "markdown",
   "metadata": {},
   "source": [
    "## Implementar basic RNN cell"
   ]
  },
  {
   "cell_type": "code",
   "execution_count": 5,
   "metadata": {},
   "outputs": [],
   "source": [
    "import numpy as np\n",
    "\n",
    "# TODO: Implement softmax\n",
    "\n",
    "def rnn_cell_forward(xt, a_prev, parameters):\n",
    "    \n",
    "    # Retrieve parameters from \"parameters\"\n",
    "    Wax = parameters[\"Wax\"]\n",
    "    Waa = parameters[\"Waa\"]\n",
    "    Wya = parameters[\"Wya\"]\n",
    "    ba = parameters[\"ba\"]\n",
    "    by = parameters[\"by\"]\n",
    "    \n",
    "    # TODO: Compute next activation state a_next\n",
    "    \n",
    "    # TODO: Compute output of the current cell\n",
    "        \n",
    "    # store values you need for backward propagation in cache\n",
    "    cache = (a_next, a_prev, xt, parameters)\n",
    "    \n",
    "    return a_next, yt_pred, cache"
   ]
  },
  {
   "cell_type": "code",
   "execution_count": 7,
   "metadata": {},
   "outputs": [
    {
     "name": "stdout",
     "output_type": "stream",
     "text": [
      "a_next[4] = \n",
      " [ 0.59584544  0.18141802  0.61311866  0.99808218  0.85016201  0.99980978\n",
      " -0.18887155  0.99815551  0.6531151   0.82872037]\n",
      "a_next.shape = \n",
      " (5, 10)\n",
      "yt_pred[1] =\n",
      " [0.19872856 0.00066249 0.00214437 0.00257758 0.0441077  0.00921221\n",
      " 0.01102142 0.23530417 0.48830784 0.00793366]\n",
      "yt_pred.shape = \n",
      " (2, 10)\n"
     ]
    }
   ],
   "source": [
    "np.random.seed(1)\n",
    "xt_tmp = np.random.randn(3, 10)  # batch, dim\n",
    "a_prev_tmp = np.random.randn(5, 10)\n",
    "parameters_tmp = {}\n",
    "parameters_tmp['Waa'] = np.random.randn(5, 5)\n",
    "parameters_tmp['Wax'] = np.random.randn(5, 3)\n",
    "parameters_tmp['Wya'] = np.random.randn(2, 5)\n",
    "parameters_tmp['ba'] = np.random.randn(5, 1)\n",
    "parameters_tmp['by'] = np.random.randn(2, 1)\n",
    "\n",
    "a_next_tmp, yt_pred_tmp, cache_tmp = rnn_cell_forward(xt_tmp, a_prev_tmp, parameters_tmp)\n",
    "print(\"a_next[4] = \\n\", a_next_tmp[4])\n",
    "print(\"a_next.shape = \\n\", a_next_tmp.shape)\n",
    "print(\"yt_pred[1] =\\n\", yt_pred_tmp[1])\n",
    "print(\"yt_pred.shape = \\n\", yt_pred_tmp.shape)\n"
   ]
  },
  {
   "cell_type": "markdown",
   "metadata": {},
   "source": [
    "## Forward prop"
   ]
  },
  {
   "cell_type": "code",
   "execution_count": 8,
   "metadata": {},
   "outputs": [],
   "source": [
    "def rnn_forward(x, a0, parameters):\n",
    "    \"\"\"\n",
    "    Implement the forward propagation of the recurrent neural network described in Figure (3).\n",
    "\n",
    "    Arguments:\n",
    "    x -- Input data for every time-step, of shape (n_x, m, T_x).\n",
    "    a0 -- Initial hidden state, of shape (n_a, m)\n",
    "    parameters -- python dictionary containing:\n",
    "                        Waa -- Weight matrix multiplying the hidden state, numpy array of shape (n_a, n_a)\n",
    "                        Wax -- Weight matrix multiplying the input, numpy array of shape (n_a, n_x)\n",
    "                        Wya -- Weight matrix relating the hidden-state to the output, numpy array of shape (n_y, n_a)\n",
    "                        ba --  Bias numpy array of shape (n_a, 1)\n",
    "                        by -- Bias relating the hidden-state to the output, numpy array of shape (n_y, 1)\n",
    "\n",
    "    Returns:\n",
    "    a -- Hidden states for every time-step, numpy array of shape (n_a, m, T_x)\n",
    "    y_pred -- Predictions for every time-step, numpy array of shape (n_y, m, T_x)\n",
    "    caches -- tuple of values needed for the backward pass, contains (list of caches, x)\n",
    "    \"\"\"\n",
    "    \n",
    "    # Initialize \"caches\" which will contain the list of all caches\n",
    "    caches = []\n",
    "    \n",
    "    # Retrieve dimensions from shapes of x and parameters[\"Wya\"]\n",
    "    n_x, m, T_x = x.shape\n",
    "    n_y, n_a = parameters[\"Wya\"].shape\n",
    "    \n",
    "    ### START CODE HERE ###\n",
    "    \n",
    "    # initialize \"a\" and \"y_pred\" with zeros (≈2 lines)\n",
    "    a = np.zeros((n_a, m, T_x))\n",
    "    y_pred = np.zeros((n_y, m, T_x))\n",
    "    \n",
    "    # Initialize a_next (≈1 line)\n",
    "    a_next = a0\n",
    "    \n",
    "    # loop over all time-steps\n",
    "    for t in range(T_x):\n",
    "        # Update next hidden state, compute the prediction, get the cache (≈1 line)\n",
    "        a_next, yt_pred, cache = rnn_cell_forward(x[:,:,t], a_next, parameters)\n",
    "        # Save the value of the new \"next\" hidden state in a (≈1 line)\n",
    "        a[:,:,t] = a_next\n",
    "        # Save the value of the prediction in y (≈1 line)\n",
    "        y_pred[:,:,t] = yt_pred\n",
    "        # Append \"cache\" to \"caches\" (≈1 line)\n",
    "        caches.append(cache)\n",
    "    ### END CODE HERE ###\n",
    "    \n",
    "    # store values needed for backward propagation in cache\n",
    "    caches = (caches, x)\n",
    "    \n",
    "    return a, y_pred, caches"
   ]
  },
  {
   "cell_type": "markdown",
   "metadata": {},
   "source": [
    "## Ejecutar"
   ]
  },
  {
   "cell_type": "code",
   "execution_count": 10,
   "metadata": {},
   "outputs": [
    {
     "name": "stdout",
     "output_type": "stream",
     "text": [
      "a[4][1] = \n",
      " [-0.99999375  0.77911235 -0.99861469 -0.99833267]\n",
      "a.shape = \n",
      " (5, 10, 4)\n",
      "y_pred[1][3] =\n",
      " [0.26132748 0.20856782 0.02925052 0.15841612]\n",
      "y_pred.shape = \n",
      " (2, 10, 4)\n",
      "caches[1][1][3] =\n",
      " [-1.1425182  -0.34934272 -0.20889423  0.58662319]\n",
      "len(caches) = \n",
      " 2\n"
     ]
    }
   ],
   "source": [
    "np.random.seed(1)\n",
    "x_tmp = np.random.randn(3, 10, 4)  # batch, timesteps, dim\n",
    "a0_tmp = np.random.randn(5, 10)\n",
    "parameters_tmp = {}\n",
    "parameters_tmp['Waa'] = np.random.randn(5, 5)\n",
    "parameters_tmp['Wax'] = np.random.randn(5, 3)\n",
    "parameters_tmp['Wya'] = np.random.randn(2, 5)\n",
    "parameters_tmp['ba'] = np.random.randn(5, 1)\n",
    "parameters_tmp['by'] = np.random.randn(2, 1)\n",
    "\n",
    "a_tmp, y_pred_tmp, caches_tmp = rnn_forward(x_tmp, a0_tmp, parameters_tmp)\n",
    "print(\"a[4][1] = \\n\", a_tmp[4][1])\n",
    "print(\"a.shape = \\n\", a_tmp.shape)\n",
    "print(\"y_pred[1][3] =\\n\", y_pred_tmp[1][3])\n",
    "print(\"y_pred.shape = \\n\", y_pred_tmp.shape)\n",
    "print(\"caches[1][1][3] =\\n\", caches_tmp[1][1][3])\n",
    "print(\"len(caches) = \\n\", len(caches_tmp))\n",
    "\n",
    "#UNIT TEST    \n",
    "#rnn_forward_test(rnn_forward)"
   ]
  },
  {
   "cell_type": "markdown",
   "metadata": {},
   "source": [
    "## Mejor con keras.layers.SimpleRNN"
   ]
  },
  {
   "cell_type": "code",
   "execution_count": 16,
   "metadata": {},
   "outputs": [
    {
     "name": "stdout",
     "output_type": "stream",
     "text": [
      "(3, 4)\n",
      "(3, 10, 4)\n",
      "tf.Tensor(\n",
      "[[-0.16965559  0.17795296 -0.4662523   0.60001403]\n",
      " [ 0.5581392  -0.5770083   0.1915477   0.78707093]\n",
      " [ 0.6415554  -0.46975076  0.19463192  0.08864395]], shape=(3, 4), dtype=float32)\n"
     ]
    }
   ],
   "source": [
    "# create and fit the SimpleRNN model\n",
    "\n",
    "import keras\n",
    "import numpy as np\n",
    "inputs = np.random.random((3, 10, 4)) #  # batch, timesteps, dim\n",
    "simple_rnn = keras.layers.SimpleRNN(4)\n",
    "output = simple_rnn(inputs)  # The output has shape `(32, 4)`.\n",
    "print(output.shape)\n",
    "simple_rnn = keras.layers.SimpleRNN(\n",
    "    4, return_sequences=True, return_state=True\n",
    ")\n",
    "# whole_sequence_output has shape `(32, 10, 4)`.\n",
    "# final_state has shape `(32, 4)`.\n",
    "whole_sequence_output, final_state = simple_rnn(inputs)\n",
    "print(whole_sequence_output.shape)\n",
    "print(final_state)\n"
   ]
  },
  {
   "cell_type": "code",
   "execution_count": 14,
   "metadata": {},
   "outputs": [
    {
     "name": "stdout",
     "output_type": "stream",
     "text": [
      "[[[0.36179576 0.9853168  0.86877887 0.15249674]\n",
      "  [0.79882609 0.81099692 0.92820722 0.22438427]\n",
      "  [0.49896747 0.82744409 0.66733378 0.59393614]\n",
      "  [0.65197582 0.23851601 0.02554008 0.73625726]\n",
      "  [0.32679183 0.37675689 0.61261605 0.65716504]\n",
      "  [0.2028989  0.82603154 0.38020661 0.63174441]\n",
      "  [0.96641142 0.56478624 0.35891114 0.61897011]\n",
      "  [0.50179312 0.45237625 0.73227073 0.92451015]\n",
      "  [0.47927142 0.08823015 0.56965356 0.24495086]\n",
      "  [0.03957791 0.78814021 0.27276824 0.77707049]]\n",
      "\n",
      " [[0.48820894 0.31793589 0.31402545 0.04202476]\n",
      "  [0.53439984 0.82355156 0.08389535 0.10855871]\n",
      "  [0.52925593 0.66014181 0.69474599 0.3132217 ]\n",
      "  [0.03777778 0.41456288 0.22604417 0.00111483]\n",
      "  [0.68571657 0.95206254 0.39115176 0.30029843]\n",
      "  [0.55375181 0.85197626 0.79496742 0.6847567 ]\n",
      "  [0.43210709 0.69043402 0.21602535 0.28394344]\n",
      "  [0.77782061 0.92998014 0.1900495  0.29606329]\n",
      "  [0.00621027 0.43156225 0.21029507 0.64142478]\n",
      "  [0.70958922 0.11877771 0.082144   0.90633507]]\n",
      "\n",
      " [[0.38923875 0.5334035  0.96324156 0.75905401]\n",
      "  [0.3255403  0.0858493  0.53602402 0.33612544]\n",
      "  [0.0216854  0.77115233 0.38490913 0.57132115]\n",
      "  [0.75574286 0.94084742 0.61232234 0.31539618]\n",
      "  [0.11007651 0.07391889 0.31969077 0.66083914]\n",
      "  [0.69515206 0.20771804 0.08279594 0.30551066]\n",
      "  [0.54757456 0.75466967 0.52965732 0.28698375]\n",
      "  [0.62417972 0.26483666 0.65269291 0.84189801]\n",
      "  [0.63894782 0.56563147 0.30714211 0.87677704]\n",
      "  [0.98882188 0.77747943 0.57364386 0.14127933]]]\n"
     ]
    }
   ],
   "source": [
    "print(inputs)"
   ]
  },
  {
   "cell_type": "code",
   "execution_count": 4,
   "metadata": {},
   "outputs": [
    {
     "name": "stdout",
     "output_type": "stream",
     "text": [
      "tf.Tensor(\n",
      "[[-0.03179753  0.14509289  0.9781907   0.5019735 ]\n",
      " [-0.11994798  0.43354037  0.97148097  0.32557377]\n",
      " [-0.4176154   0.40960777  0.8407844   0.70254743]\n",
      " [-0.7159653  -0.02250117  0.9023634   0.76640546]\n",
      " [ 0.12313093  0.0898631   0.97702044  0.07784285]\n",
      " [-0.00291277  0.24100319  0.98433566  0.47263044]\n",
      " [-0.6475453   0.13773736  0.95074046  0.7057345 ]\n",
      " [-0.8395195  -0.19906163  0.95005447  0.83500016]\n",
      " [-0.395829   -0.3478586   0.9977278  -0.21805848]\n",
      " [-0.01188049  0.5154062   0.96507686  0.03526821]\n",
      " [-0.21965803  0.28714785  0.972595    0.69383097]\n",
      " [-0.01700303  0.33022204  0.5891278   0.837763  ]\n",
      " [ 0.06305152  0.68379706  0.9436949   0.6681444 ]\n",
      " [-0.66979027 -0.2088745   0.9639633   0.65318435]\n",
      " [-0.3409407  -0.53009117  0.9732123   0.6929266 ]\n",
      " [-0.50739     0.03619301  0.98472357  0.5786426 ]\n",
      " [-0.68411213 -0.30439126  0.93527174  0.8397238 ]\n",
      " [-0.24298665  0.55986184  0.69763476  0.62231386]\n",
      " [-0.5486438  -0.3135246   0.97548276  0.73780507]\n",
      " [-0.29320362  0.06311177  0.95499927  0.49826154]\n",
      " [-0.65580887  0.21292672  0.9766203   0.58928734]\n",
      " [-0.6954696  -0.40342003  0.96182775  0.85892606]\n",
      " [-0.43800282  0.3016563   0.9189511   0.7363193 ]\n",
      " [-0.2907319   0.4614563   0.8962391   0.9196422 ]\n",
      " [ 0.1853941   0.31868702  0.9603258   0.08195585]\n",
      " [-0.59044796  0.22420006  0.87990797  0.93226993]\n",
      " [-0.5241674   0.5101117   0.95788467  0.8264019 ]\n",
      " [-0.30554226  0.48443443  0.9545763   0.7384136 ]\n",
      " [-0.28842497  0.2601001   0.98643905  0.3283992 ]\n",
      " [-0.27414978  0.29532453  0.9598546   0.35485613]\n",
      " [-0.10855277  0.28016385  0.7855884   0.8896199 ]\n",
      " [-0.05374501 -0.0349786   0.5530533   0.95898825]], shape=(32, 4), dtype=float32)\n"
     ]
    }
   ],
   "source": [
    "print(final_state)"
   ]
  },
  {
   "cell_type": "code",
   "execution_count": null,
   "metadata": {},
   "outputs": [],
   "source": []
  }
 ],
 "metadata": {
  "kernelspec": {
   "display_name": "Python 3",
   "language": "python",
   "name": "python3"
  },
  "language_info": {
   "codemirror_mode": {
    "name": "ipython",
    "version": 3
   },
   "file_extension": ".py",
   "mimetype": "text/x-python",
   "name": "python",
   "nbconvert_exporter": "python",
   "pygments_lexer": "ipython3",
   "version": "3.10.13"
  }
 },
 "nbformat": 4,
 "nbformat_minor": 2
}
