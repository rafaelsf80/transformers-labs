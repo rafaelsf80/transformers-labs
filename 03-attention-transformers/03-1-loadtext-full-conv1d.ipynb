{
 "cells": [
  {
   "cell_type": "markdown",
   "metadata": {},
   "source": [
    "# 03-1: Load text - Full model with Conv1D"
   ]
  },
  {
   "cell_type": "code",
   "execution_count": null,
   "metadata": {
    "vscode": {
     "languageId": "plaintext"
    }
   },
   "outputs": [],
   "source": [
    "# TODO: Same loadtext-full notebook but using Conv1D layer\n",
    "# NOTE: Must implement full notebook, including loading the dataset"
   ]
  }
 ],
 "metadata": {
  "language_info": {
   "name": "python"
  }
 },
 "nbformat": 4,
 "nbformat_minor": 2
}
