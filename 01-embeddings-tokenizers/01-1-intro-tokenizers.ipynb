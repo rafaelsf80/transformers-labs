{
 "cells": [
  {
   "cell_type": "markdown",
   "metadata": {},
   "source": [
    "# 01-1: Tokenizers"
   ]
  },
  {
   "cell_type": "markdown",
   "metadata": {},
   "source": [
    "## Exercise 1: One-hot "
   ]
  },
  {
   "cell_type": "code",
   "execution_count": null,
   "metadata": {},
   "outputs": [],
   "source": [
    "# TODO: Implement a one-hot encoding using `keras.utils.to_categorical`, and using the data shown\n",
    "data = [1, 3, 2, 0, 3, 2, 2, 1, 0, 1]"
   ]
  },
  {
   "cell_type": "markdown",
   "metadata": {},
   "source": [
    "## Exercise 2: Bag of words"
   ]
  },
  {
   "cell_type": "code",
   "execution_count": null,
   "metadata": {},
   "outputs": [],
   "source": [
    "# TODO: Implement Bag or words with a Keras  and the following classes and data\n",
    "from tensorflow.keras.preprocessing.text import Tokenizer\n",
    "from tensorflow.keras.preprocessing.sequence import pad_sequences\n",
    "\n",
    "sentences = [\n",
    "    'Me gusta la economía',\n",
    "    'Me gusta la informática',\n",
    "    '¡Te gusta la economía!',\n",
    "    '¿Crees que la informática es sorprendente?'\n",
    "]"
   ]
  },
  {
   "cell_type": "markdown",
   "metadata": {},
   "source": [
    "## Exercise 3: Tokenization with NLTK\n"
   ]
  },
  {
   "cell_type": "code",
   "execution_count": null,
   "metadata": {},
   "outputs": [],
   "source": [
    "# TODO: Implement `nltk.tokenize.WordPunctTokenizer` with this text\n",
    "from nltk.tokenize import WordPunctTokenizer \n",
    "from nltk.tokenize import TreebankWordTokenizer \n",
    "texto = \"¿Cuánto tiempo pasó desde que mu último push a github?\""
   ]
  },
  {
   "cell_type": "markdown",
   "metadata": {},
   "source": [
    "## Exercise 4: SentencePiece tokenizer\n",
    "\n",
    "[SentencePiece](https://github.com/google/sentencepiece) is an unsupervised text tokenizer and detokenizer.\n",
    "\n",
    "\n",
    "Public open sourced pre-trained weights are available here (32k tokens): `gs://t5-data/vocabs/cc_all.32000.100extra/sentencepiece.model`.\n",
    "\n",
    "\n",
    "You must download the weights to run the samples in this snippet (32K tokens):\n",
    "`gsutil cp gs://t5-data/vocabs/cc_all.32000.100extra/sentencepiece.model .`\n",
    "\n",
    "SentencePiece python [public documentation](https://github.com/google/sentencepiece/blob/master/python/README.md)"
   ]
  },
  {
   "cell_type": "code",
   "execution_count": null,
   "metadata": {},
   "outputs": [],
   "source": [
    "# TODO: Implement Sentencepiece tokenizer"
   ]
  }
 ],
 "metadata": {
  "kernelspec": {
   "display_name": "Python 3",
   "language": "python",
   "name": "python3"
  },
  "language_info": {
   "codemirror_mode": {
    "name": "ipython",
    "version": 3
   },
   "file_extension": ".py",
   "mimetype": "text/x-python",
   "name": "python",
   "nbconvert_exporter": "python",
   "pygments_lexer": "ipython3",
   "version": "3.10.13"
  }
 },
 "nbformat": 4,
 "nbformat_minor": 2
}
