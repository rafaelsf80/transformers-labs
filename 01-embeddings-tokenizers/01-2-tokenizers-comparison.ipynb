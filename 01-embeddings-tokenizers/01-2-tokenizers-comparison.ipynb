{
 "cells": [
  {
   "cell_type": "markdown",
   "metadata": {},
   "source": [
    "# 01-2: Tokenizers comparison"
   ]
  },
  {
   "cell_type": "code",
   "execution_count": null,
   "metadata": {},
   "outputs": [],
   "source": [
    "!pip install tiktoken"
   ]
  },
  {
   "cell_type": "code",
   "execution_count": null,
   "metadata": {},
   "outputs": [],
   "source": [
    "import tiktoken\n",
    "from transformers import AutoModel, AutoTokenizer\n",
    "\n",
    "def show_tokens(sentence, tokenizer_name, print_token_ids = False):\n",
    "    if (tokenizer_name == 'gpt-4'):\n",
    "        tokenizer = tiktoken.encoding_for_model(\"gpt-4\")\n",
    "        token_ids = tokenizer.encode(sentence)\n",
    "    else:\n",
    "        tokenizer = AutoTokenizer.from_pretrained(tokenizer_name)\n",
    "        print(len(tokenizer))\n",
    "        token_ids = tokenizer(sentence).input_ids\n",
    "\n",
    "    for t in token_ids:\n",
    "        if print_token_ids:\n",
    "            print(t, end = \" \")\n",
    "        print('\\x1b[0;30;47m' + tokenizer.decode([t]) +'\\x1b[0m', end = \" \")\n",
    "\n",
    "    print('\\n\\n')\n",
    "\n",
    "    for t in token_ids:\n",
    "        print(t, '\\x1b[0;30;47m' + tokenizer.decode([t]) +'\\x1b[0m')\n",
    "    \n",
    "\n",
    "def encode_decode(sentence, tokenizer_name):\n",
    "    tokenizer = AutoTokenizer.from_pretrained(tokenizer_name)\n",
    "    token_ids = tokenizer(sentence).input_ids\n",
    "    print(tokenizer.decode(token_ids))\n",
    "\n",
    "text = \"\"\"\n",
    "    English and CAPITALIZATION\n",
    "    😀🎵\n",
    "    show_tokens False None elif == >= else\n",
    "    Two tabs: \"\\t\\t\" Four spaces: \"    \"\n",
    "    12.0*50=600\n",
    "\"\"\"\n"
   ]
  },
  {
   "cell_type": "code",
   "execution_count": null,
   "metadata": {},
   "outputs": [],
   "source": [
    "# TODO: Test and compare bert-base-uncased,bert-base-cased, GPT2, T5-small, GPT-4 tokenizers, bigcode/starcoder, facebook/galactica-1.3b\n",
    "# NOTE: bigcode/starcoder requires huggingface login and accept T&Cs at starcoder page"
   ]
  },
  {
   "cell_type": "code",
   "execution_count": null,
   "metadata": {},
   "outputs": [],
   "source": [
    "# TODO: Sentencepiece tokenizer"
   ]
  }
 ],
 "metadata": {
  "kernelspec": {
   "display_name": "Python 3",
   "language": "python",
   "name": "python3"
  },
  "language_info": {
   "codemirror_mode": {
    "name": "ipython",
    "version": 3
   },
   "file_extension": ".py",
   "mimetype": "text/x-python",
   "name": "python",
   "nbconvert_exporter": "python",
   "pygments_lexer": "ipython3",
   "version": "3.10.13"
  }
 },
 "nbformat": 4,
 "nbformat_minor": 2
}
